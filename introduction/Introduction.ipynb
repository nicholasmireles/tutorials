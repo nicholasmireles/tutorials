{
 "cells": [
  {
   "cell_type": "markdown",
   "metadata": {},
   "source": [
    "# Introduction to Machine Learning\n",
    "\n",
    "Hello! This notebook is intended to be an introduction to machine learning. The model we will create won't be super advanced, but it will serve as a good basis for you to explore more on your own."
   ]
  },
  {
   "cell_type": "markdown",
   "metadata": {},
   "source": [
    "## The Data\n",
    "\n",
    "Before we get started, I should introduce the data we will be working with. The Boston Housing dataset is a very common beginner dataset (So much so, that it's included in the library we will be using!). \n",
    "\n",
    "This data was collected by the US Census Bureau in 1978 in the suburbs surrounding Boston, Massachussets. It includes 14 statistics for 506 suburbs, including:\n",
    "* Per capita crime rate by town\n",
    "* Average number of rooms per dwelling\n",
    "* Proportion of owner-occupied units built prior to 1940\n",
    "\n",
    "Let's go ahead and load this dataset into our environment. We are using the sklearn library in this tutorial as it provides an easy way to access all of the information we need."
   ]
  },
  {
   "cell_type": "code",
   "execution_count": 10,
   "metadata": {},
   "outputs": [],
   "source": [
    "from sklearn.datasets import load_boston #Import the Boston dataset loader function from the datasets module.\n",
    "\n",
    "dataset = load_boston() # Loads a dictionary full of the dataset into our variable."
   ]
  },
  {
   "cell_type": "markdown",
   "metadata": {},
   "source": [
    "\n",
    "Our `dataset` variable now includes some useful information:\n"
   ]
  },
  {
   "cell_type": "code",
   "execution_count": 18,
   "metadata": {},
   "outputs": [
    {
     "name": "stdout",
     "output_type": "stream",
     "text": [
      "['filename', 'data', 'target', 'DESCR', 'feature_names']\n"
     ]
    }
   ],
   "source": [
    "print(dataset.keys())"
   ]
  },
  {
   "cell_type": "markdown",
   "metadata": {},
   "source": [
    "`'filename'` just tells us where the dataset is stored on our computer.\n",
    "\n",
    "`'data'` contains all the 506 examples and their values.\n",
    "\n",
    "`'target'` is the value we will try to predict for all of the 506 examples.\n",
    "\n",
    "`'DESCR'` is more information about the dataset which you should certainly read.\n",
    "\n",
    "`'feature_names'` tells you to what each of the columns in `'data'` corresponds (the statistics I mentioned above). "
   ]
  },
  {
   "cell_type": "markdown",
   "metadata": {},
   "source": [
    "In our case, the 'target' we will be trying to predict is the median household value in \\$1000's.\n",
    "\n",
    "## But How?\n",
    "The algorithm we will be looking at today is called linear regression. If you have ever used the \"line of best fit\" feature in Microsoft Excel, you are already familiar. In fact, you could probably do what we're about to do in Excel, but where's the fun in that?\n",
    "\n",
    "### The Hypothesis Function\n",
    "We are all familiar with the basic formula of a line:\n",
    "\n",
    "\\begin{aligned}\n",
    "y = mx+b \\\\\n",
    "\\end{aligned}\n",
    "\n",
    "In this case, we have our y (the cost of the house), and our x (the 13 other statistics), and now we want to find the m that will, given any _unseen_ (as in, nothing we already have in our dataset) x values, give us the correct y value.\n",
    "\n",
    "In machine learning terms,this formula is called our _hypothesis function_. Typically, this will be written in the form:\n",
    "\n",
    "\\begin{aligned}\n",
    "h_\\theta(x) = \\theta x \\\\\n",
    "\\end{aligned}\n",
    "\n",
    "In our case, it would actually look more like this:\n",
    "\n",
    "\\begin{aligned}\n",
    "h_\\theta(x) = \\theta_0x_0 + \\theta_1 x_1 + \\dotsb + \\theta_0 x_{12} \\\\\n",
    "\\end{aligned}\n",
    "\n",
    "Since we have 13 x's.\n",
    "\n",
    "### The Cost Function\n",
    "So now that we have our function defined, how to we \"grade\" our prediction? That's where the cost function comes into play! Now, there are many cost functions out there and which one you use depends very much on the problem you are trying to solve, and the later steps in this tutorial. That discussion, however, is outside the scope of this tutorial.\n",
    "\n",
    "In our case, the cost function that we will be using is called the Mean Squared Error. That function looks like this:\n",
    "\\begin{aligned}\n",
    "J(\\theta) = \\frac{1}{2m}\\sum_{i=0}^{m} (h_{i\\theta}(x) - y_i)^2 \\\\\n",
    "\\end{aligned}\n",
    "Where $h_{i\\theta}(x)$ is what we predicted for the $i^{th}$ example and $y_i$ is the correct value. As you can see, this simply takes the average of the squared difference between the real value and the predicted value. The $\\frac{1}{2}$ part just makes the math nice when you take the first derivative of the equation (we'll talk about that later).\n",
    "\n",
    "### Gradient Descent\n",
    "Okay, so now that we have the hypothesis function, the correct values, and a way to quantify our error, what next? We need to find a way to improve our guess for $\\theta$ using our cost function. The way we are going to do that is called gradient descent.\n",
    "\n",
    "Gradient descent will use the cost function we defined above to gradually change the value of $\\theta$ until the cost is zero, or as close to it as we can get. The formula is as follows:\n",
    "\n",
    "\\begin{aligned}\n",
    "\\theta_j := \\theta_j - \\alpha\\frac{\\partial}{\\partial \\theta_j}J(\\theta)\\\\\n",
    "\\end{aligned}\n",
    "\n",
    "So, for every $\\theta$ value, subtract from it's current value the derivate of the cost function with respect to that $\\theta$. $\\alpha$ is the rate by which we change that value is called the learning rate. This typically has a low value like .01."
   ]
  },
  {
   "cell_type": "markdown",
   "metadata": {},
   "source": [
    "## The Real Fun\n",
    "Enough boring math, it's time to try this out!\n",
    "\n",
    "### The Model\n",
    "So the first step is to import the libraries that we will need. We will be using keras in this case since it provides (in my opinion) the easiest interface for creating models."
   ]
  },
  {
   "cell_type": "code",
   "execution_count": 23,
   "metadata": {},
   "outputs": [],
   "source": [
    "''' I wouldn't pay too much attention to what these do for now, they are just libraries specific to keras\n",
    "  that we will need\n",
    "'''\n",
    "from keras.models import Sequential\n",
    "from keras.layers import Input, Dense"
   ]
  },
  {
   "cell_type": "code",
   "execution_count": 27,
   "metadata": {},
   "outputs": [],
   "source": [
    "model = Sequential() # Create our model\n",
    "model.add(Dense(1, activation=\"linear\",input_shape=(13,))) #Create the first and only layer of our model\n",
    "model.compile(optimizer=\"SGD\", loss=\"mean_squared_error\", metrics=['accuracy'])"
   ]
  },
  {
   "cell_type": "markdown",
   "metadata": {},
   "source": [
    "Let me explain the last two lines a little. Since Keras is made for neural networks, we have to do some ugly stuff to make it do linear regression. All this does is create a single \"neuron\" using the \"linear\" function (our hypothesis function), and tell it that our input will be our 13 features. \n",
    "\n",
    "Then in the next line, we tell it we want to learn using SGD (Stochasic Gradient Descent, our gradient descent algorithm above). We also tell it we want to use our Mean Squared Error function and we will be grading ourselves on our accuracy."
   ]
  },
  {
   "cell_type": "markdown",
   "metadata": {},
   "source": [
    "### The Data\n",
    "So, before we try to run our model, we should do some data preprocessing. What we are going to do is normalize the features we have. We do this to ensure our model trains well. If we leave the data as it is, the changes our gradient descent makes to our weights can be drastic or otherwise unhelpful. Let's consider the first sample:"
   ]
  },
  {
   "cell_type": "code",
   "execution_count": 46,
   "metadata": {},
   "outputs": [
    {
     "name": "stdout",
     "output_type": "stream",
     "text": [
      "[-0.48270736 -0.35874599 -0.46683694 -0.4827509  -0.47904453 -0.43745466\n",
      " -0.03357755 -0.45457423 -0.47586174  1.55644101 -0.37734672  2.25155744\n",
      " -0.44844287]\n"
     ]
    }
   ],
   "source": [
    "data = dataset['data']\n",
    "print(train_data[0])"
   ]
  },
  {
   "cell_type": "markdown",
   "metadata": {},
   "source": [
    "As you can see, some values are very small and others are rather large. That means steps small steps for the large features will mean huge steps for the small variables, and we'll potentially never reach the minimum!\n",
    "\n",
    "We will be using numpy for this part."
   ]
  },
  {
   "cell_type": "code",
   "execution_count": 47,
   "metadata": {},
   "outputs": [],
   "source": [
    "import numpy as np\n",
    "data = np.array(data) # Convert train_data to a numpy array for these operations\n",
    "averages = np.average(data) # Calculate the average of every sample\n",
    "ranges = np.std(data) # Calculate the standard deviation of values for every sample\n",
    "\n",
    "data = (data - averages)/ ranges"
   ]
  },
  {
   "cell_type": "markdown",
   "metadata": {},
   "source": [
    "Now, as you can see, the distribution of values is much smaller:"
   ]
  },
  {
   "cell_type": "code",
   "execution_count": 48,
   "metadata": {},
   "outputs": [
    {
     "name": "stdout",
     "output_type": "stream",
     "text": [
      "[-0.48270736 -0.35874599 -0.46683694 -0.4827509  -0.47904453 -0.43745466\n",
      " -0.03357755 -0.45457423 -0.47586174  1.55644101 -0.37734672  2.25155744\n",
      " -0.44844287]\n"
     ]
    }
   ],
   "source": [
    "print(data[0])"
   ]
  },
  {
   "cell_type": "markdown",
   "metadata": {},
   "source": [
    "Now let's split up the data so that we reserve 10% of the dataset for testing our model."
   ]
  },
  {
   "cell_type": "code",
   "execution_count": 54,
   "metadata": {},
   "outputs": [],
   "source": [
    "split_index = int(len(data) * .10)\n",
    "test_data = data[:split_index]\n",
    "train_data = data[split_index:]\n",
    "\n",
    "train_labels = dataset['target'][split_index:]"
   ]
  },
  {
   "cell_type": "markdown",
   "metadata": {},
   "source": [
    "Now, you should never split your data the way we just did. The reason for that is: if there are any underlying trends in your data, your model will learn those instead and not be accurate for new data. You should typically random sample the data for the splits, but in our case it will be fine."
   ]
  },
  {
   "cell_type": "markdown",
   "metadata": {},
   "source": [
    "### Putting it all together\n",
    "Now is the moment of truth. Let's train our model."
   ]
  },
  {
   "cell_type": "code",
   "execution_count": 57,
   "metadata": {},
   "outputs": [
    {
     "name": "stdout",
     "output_type": "stream",
     "text": [
      "Epoch 1/100\n",
      "456/456 [==============================] - 0s 33us/step - loss: 61.8188 - acc: 0.0044\n",
      "Epoch 2/100\n",
      "456/456 [==============================] - 0s 36us/step - loss: 61.8461 - acc: 0.0044\n",
      "Epoch 3/100\n",
      "456/456 [==============================] - 0s 38us/step - loss: 61.6516 - acc: 0.0000e+00\n",
      "Epoch 4/100\n",
      "456/456 [==============================] - 0s 47us/step - loss: 61.4414 - acc: 0.0000e+00\n",
      "Epoch 5/100\n",
      "456/456 [==============================] - 0s 46us/step - loss: 61.6560 - acc: 0.0000e+00\n",
      "Epoch 6/100\n",
      "456/456 [==============================] - 0s 41us/step - loss: 61.1385 - acc: 0.0022\n",
      "Epoch 7/100\n",
      "456/456 [==============================] - 0s 38us/step - loss: 61.1275 - acc: 0.0044\n",
      "Epoch 8/100\n",
      "456/456 [==============================] - 0s 35us/step - loss: 61.2725 - acc: 0.0000e+00\n",
      "Epoch 9/100\n",
      "456/456 [==============================] - 0s 46us/step - loss: 61.1153 - acc: 0.0022\n",
      "Epoch 10/100\n",
      "456/456 [==============================] - 0s 47us/step - loss: 61.2483 - acc: 0.0000e+00\n",
      "Epoch 11/100\n",
      "456/456 [==============================] - 0s 38us/step - loss: 60.9669 - acc: 0.0044\n",
      "Epoch 12/100\n",
      "456/456 [==============================] - 0s 47us/step - loss: 61.4481 - acc: 0.0000e+00\n",
      "Epoch 13/100\n",
      "456/456 [==============================] - 0s 38us/step - loss: 61.4783 - acc: 0.0044\n",
      "Epoch 14/100\n",
      "456/456 [==============================] - 0s 41us/step - loss: 60.7140 - acc: 0.0000e+00\n",
      "Epoch 15/100\n",
      "456/456 [==============================] - 0s 36us/step - loss: 61.1260 - acc: 0.0000e+00\n",
      "Epoch 16/100\n",
      "456/456 [==============================] - 0s 35us/step - loss: 60.6404 - acc: 0.0044\n",
      "Epoch 17/100\n",
      "456/456 [==============================] - 0s 37us/step - loss: 60.7260 - acc: 0.0022\n",
      "Epoch 18/100\n",
      "456/456 [==============================] - 0s 36us/step - loss: 60.4243 - acc: 0.0000e+00\n",
      "Epoch 19/100\n",
      "456/456 [==============================] - 0s 38us/step - loss: 60.3698 - acc: 0.0022\n",
      "Epoch 20/100\n",
      "456/456 [==============================] - 0s 35us/step - loss: 60.4174 - acc: 0.0022\n",
      "Epoch 21/100\n",
      "456/456 [==============================] - 0s 31us/step - loss: 60.6245 - acc: 0.0022\n",
      "Epoch 22/100\n",
      "456/456 [==============================] - 0s 33us/step - loss: 60.0253 - acc: 0.0022\n",
      "Epoch 23/100\n",
      "456/456 [==============================] - 0s 32us/step - loss: 60.4824 - acc: 0.0000e+00\n",
      "Epoch 24/100\n",
      "456/456 [==============================] - 0s 32us/step - loss: 60.5483 - acc: 0.0022\n",
      "Epoch 25/100\n",
      "456/456 [==============================] - 0s 31us/step - loss: 60.0231 - acc: 0.0044\n",
      "Epoch 26/100\n",
      "456/456 [==============================] - 0s 36us/step - loss: 60.1216 - acc: 0.0022\n",
      "Epoch 27/100\n",
      "456/456 [==============================] - 0s 35us/step - loss: 59.8128 - acc: 0.0022\n",
      "Epoch 28/100\n",
      "456/456 [==============================] - 0s 36us/step - loss: 59.8639 - acc: 0.0000e+00\n",
      "Epoch 29/100\n",
      "456/456 [==============================] - 0s 36us/step - loss: 59.9334 - acc: 0.0022\n",
      "Epoch 30/100\n",
      "456/456 [==============================] - 0s 45us/step - loss: 59.9469 - acc: 0.0000e+00\n",
      "Epoch 31/100\n",
      "456/456 [==============================] - 0s 50us/step - loss: 59.4976 - acc: 0.0022\n",
      "Epoch 32/100\n",
      "456/456 [==============================] - 0s 49us/step - loss: 60.8517 - acc: 0.0044\n",
      "Epoch 33/100\n",
      "456/456 [==============================] - 0s 51us/step - loss: 59.7826 - acc: 0.0044\n",
      "Epoch 34/100\n",
      "456/456 [==============================] - 0s 46us/step - loss: 59.9682 - acc: 0.0044\n",
      "Epoch 35/100\n",
      "456/456 [==============================] - 0s 61us/step - loss: 59.8556 - acc: 0.0022\n",
      "Epoch 36/100\n",
      "456/456 [==============================] - 0s 54us/step - loss: 59.8019 - acc: 0.0022\n",
      "Epoch 37/100\n",
      "456/456 [==============================] - 0s 59us/step - loss: 59.5255 - acc: 0.0000e+00\n",
      "Epoch 38/100\n",
      "456/456 [==============================] - 0s 57us/step - loss: 59.4440 - acc: 0.0000e+00\n",
      "Epoch 39/100\n",
      "456/456 [==============================] - 0s 59us/step - loss: 59.8449 - acc: 0.0022\n",
      "Epoch 40/100\n",
      "456/456 [==============================] - 0s 57us/step - loss: 59.6647 - acc: 0.0022\n",
      "Epoch 41/100\n",
      "456/456 [==============================] - 0s 54us/step - loss: 59.5990 - acc: 0.0044\n",
      "Epoch 42/100\n",
      "456/456 [==============================] - 0s 50us/step - loss: 59.3588 - acc: 0.0044\n",
      "Epoch 43/100\n",
      "456/456 [==============================] - 0s 59us/step - loss: 59.3444 - acc: 0.0022\n",
      "Epoch 44/100\n",
      "456/456 [==============================] - 0s 53us/step - loss: 59.3968 - acc: 0.0022\n",
      "Epoch 45/100\n",
      "456/456 [==============================] - 0s 47us/step - loss: 59.3067 - acc: 0.0000e+00\n",
      "Epoch 46/100\n",
      "456/456 [==============================] - 0s 58us/step - loss: 59.2965 - acc: 0.0044\n",
      "Epoch 47/100\n",
      "456/456 [==============================] - 0s 60us/step - loss: 59.3476 - acc: 0.0000e+00\n",
      "Epoch 48/100\n",
      "456/456 [==============================] - 0s 51us/step - loss: 59.3125 - acc: 0.0000e+00\n",
      "Epoch 49/100\n",
      "456/456 [==============================] - 0s 48us/step - loss: 59.3244 - acc: 0.0000e+00\n",
      "Epoch 50/100\n",
      "456/456 [==============================] - 0s 59us/step - loss: 58.9795 - acc: 0.0022\n",
      "Epoch 51/100\n",
      "456/456 [==============================] - 0s 55us/step - loss: 59.3039 - acc: 0.0022\n",
      "Epoch 52/100\n",
      "456/456 [==============================] - 0s 59us/step - loss: 59.0664 - acc: 0.0022\n",
      "Epoch 53/100\n",
      "456/456 [==============================] - 0s 47us/step - loss: 59.1065 - acc: 0.0022\n",
      "Epoch 54/100\n",
      "456/456 [==============================] - 0s 43us/step - loss: 59.5167 - acc: 0.0022\n",
      "Epoch 55/100\n",
      "456/456 [==============================] - 0s 45us/step - loss: 58.8852 - acc: 0.0022\n",
      "Epoch 56/100\n",
      "456/456 [==============================] - 0s 30us/step - loss: 58.7847 - acc: 0.0022\n",
      "Epoch 57/100\n",
      "456/456 [==============================] - 0s 57us/step - loss: 59.0111 - acc: 0.0000e+00\n",
      "Epoch 58/100\n",
      "456/456 [==============================] - 0s 37us/step - loss: 58.8812 - acc: 0.0022\n",
      "Epoch 59/100\n",
      "456/456 [==============================] - 0s 38us/step - loss: 58.7468 - acc: 0.0000e+00\n",
      "Epoch 60/100\n",
      "456/456 [==============================] - 0s 38us/step - loss: 59.0304 - acc: 0.0022\n",
      "Epoch 61/100\n",
      "456/456 [==============================] - 0s 39us/step - loss: 58.6490 - acc: 0.0022\n",
      "Epoch 62/100\n",
      "456/456 [==============================] - 0s 42us/step - loss: 58.9949 - acc: 0.0022\n",
      "Epoch 63/100\n",
      "456/456 [==============================] - 0s 37us/step - loss: 58.6519 - acc: 0.0000e+00\n",
      "Epoch 64/100\n",
      "456/456 [==============================] - 0s 35us/step - loss: 58.7678 - acc: 0.0022\n",
      "Epoch 65/100\n",
      "456/456 [==============================] - 0s 37us/step - loss: 58.5298 - acc: 0.0000e+00\n",
      "Epoch 66/100\n",
      "456/456 [==============================] - 0s 55us/step - loss: 58.8689 - acc: 0.0000e+00\n",
      "Epoch 67/100\n",
      "456/456 [==============================] - 0s 37us/step - loss: 58.5211 - acc: 0.0000e+00\n",
      "Epoch 68/100\n",
      "456/456 [==============================] - 0s 42us/step - loss: 58.2866 - acc: 0.0022\n",
      "Epoch 69/100\n",
      "456/456 [==============================] - 0s 37us/step - loss: 58.7204 - acc: 0.0000e+00\n",
      "Epoch 70/100\n",
      "456/456 [==============================] - 0s 45us/step - loss: 58.4861 - acc: 0.0000e+00\n",
      "Epoch 71/100\n",
      "456/456 [==============================] - 0s 40us/step - loss: 58.3879 - acc: 0.0000e+00\n",
      "Epoch 72/100\n",
      "456/456 [==============================] - 0s 38us/step - loss: 58.4735 - acc: 0.0022\n",
      "Epoch 73/100\n",
      "456/456 [==============================] - 0s 36us/step - loss: 58.3353 - acc: 0.0022\n",
      "Epoch 74/100\n",
      "456/456 [==============================] - 0s 36us/step - loss: 58.8971 - acc: 0.0044\n",
      "Epoch 75/100\n",
      "456/456 [==============================] - 0s 34us/step - loss: 58.5562 - acc: 0.0044\n",
      "Epoch 76/100\n",
      "456/456 [==============================] - 0s 39us/step - loss: 58.1511 - acc: 0.0022\n",
      "Epoch 77/100\n",
      "456/456 [==============================] - 0s 35us/step - loss: 58.7870 - acc: 0.0022\n",
      "Epoch 78/100\n",
      "456/456 [==============================] - 0s 40us/step - loss: 58.3123 - acc: 0.0044\n",
      "Epoch 79/100\n",
      "456/456 [==============================] - 0s 34us/step - loss: 58.2173 - acc: 0.0022\n",
      "Epoch 80/100\n",
      "456/456 [==============================] - 0s 36us/step - loss: 58.3895 - acc: 0.0000e+00\n",
      "Epoch 81/100\n",
      "456/456 [==============================] - 0s 36us/step - loss: 58.3362 - acc: 0.0044\n",
      "Epoch 82/100\n"
     ]
    },
    {
     "name": "stdout",
     "output_type": "stream",
     "text": [
      "456/456 [==============================] - 0s 32us/step - loss: 58.2791 - acc: 0.0000e+00\n",
      "Epoch 83/100\n",
      "456/456 [==============================] - 0s 39us/step - loss: 58.4345 - acc: 0.0022\n",
      "Epoch 84/100\n",
      "456/456 [==============================] - 0s 43us/step - loss: 58.4305 - acc: 0.0000e+00\n",
      "Epoch 85/100\n",
      "456/456 [==============================] - 0s 36us/step - loss: 58.3842 - acc: 0.0022\n",
      "Epoch 86/100\n",
      "456/456 [==============================] - 0s 29us/step - loss: 58.0113 - acc: 0.0000e+00\n",
      "Epoch 87/100\n",
      "456/456 [==============================] - 0s 30us/step - loss: 58.0482 - acc: 0.0022\n",
      "Epoch 88/100\n",
      "456/456 [==============================] - 0s 34us/step - loss: 58.5700 - acc: 0.0044\n",
      "Epoch 89/100\n",
      "456/456 [==============================] - 0s 33us/step - loss: 58.0887 - acc: 0.0022\n",
      "Epoch 90/100\n",
      "456/456 [==============================] - 0s 38us/step - loss: 58.8356 - acc: 0.0044\n",
      "Epoch 91/100\n",
      "456/456 [==============================] - 0s 48us/step - loss: 58.1661 - acc: 0.0022\n",
      "Epoch 92/100\n",
      "456/456 [==============================] - 0s 47us/step - loss: 58.0732 - acc: 0.0000e+00\n",
      "Epoch 93/100\n",
      "456/456 [==============================] - 0s 56us/step - loss: 58.1065 - acc: 0.0000e+00\n",
      "Epoch 94/100\n",
      "456/456 [==============================] - 0s 43us/step - loss: 57.8024 - acc: 0.0044\n",
      "Epoch 95/100\n",
      "456/456 [==============================] - 0s 37us/step - loss: 57.9659 - acc: 0.0022\n",
      "Epoch 96/100\n",
      "456/456 [==============================] - 0s 35us/step - loss: 57.7957 - acc: 0.0022\n",
      "Epoch 97/100\n",
      "456/456 [==============================] - 0s 41us/step - loss: 58.1601 - acc: 0.0022\n",
      "Epoch 98/100\n",
      "456/456 [==============================] - 0s 38us/step - loss: 57.8799 - acc: 0.0044\n",
      "Epoch 99/100\n",
      "456/456 [==============================] - 0s 31us/step - loss: 58.6877 - acc: 0.0022\n",
      "Epoch 100/100\n",
      "456/456 [==============================] - 0s 33us/step - loss: 58.0127 - acc: 0.0000e+00\n"
     ]
    },
    {
     "data": {
      "text/plain": [
       "<keras.callbacks.History at 0x12c994dd0>"
      ]
     },
     "execution_count": 57,
     "metadata": {},
     "output_type": "execute_result"
    }
   ],
   "source": [
    "model.fit(x=train_data, y=train_labels, epochs=100)"
   ]
  },
  {
   "cell_type": "code",
   "execution_count": null,
   "metadata": {},
   "outputs": [],
   "source": []
  }
 ],
 "metadata": {
  "kernelspec": {
   "display_name": "Python 2",
   "language": "python",
   "name": "python2"
  },
  "language_info": {
   "codemirror_mode": {
    "name": "ipython",
    "version": 2
   },
   "file_extension": ".py",
   "mimetype": "text/x-python",
   "name": "python",
   "nbconvert_exporter": "python",
   "pygments_lexer": "ipython2",
   "version": "2.7.10"
  }
 },
 "nbformat": 4,
 "nbformat_minor": 2
}
