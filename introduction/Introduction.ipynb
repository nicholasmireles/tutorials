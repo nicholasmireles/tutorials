{
 "cells": [
  {
   "cell_type": "markdown",
   "metadata": {},
   "source": [
    "# Introduction to Machine Learning\n",
    "\n",
    "Hello! This notebook is intended to be an introduction to machine learning. The model we will create won't be super advanced, but it will serve as a good basis for you to explore more on your own."
   ]
  },
  {
   "cell_type": "markdown",
   "metadata": {},
   "source": [
    "## The Data\n",
    "\n",
    "Before we get started, I should introduce the data we will be working with. The Boston Housing dataset is a very common beginner dataset (So much so, that it's included in the library we will be using!). \n",
    "\n",
    "This data was collected by the US Census Bureau in 1978 in the suburbs surrounding Boston, Massachussets. It includes 14 statistics for 506 suburbs, including:\n",
    "* Per capita crime rate by town\n",
    "* Average number of rooms per dwelling\n",
    "* Proportion of owner-occupied units built prior to 1940\n",
    "\n",
    "Let's go ahead and load this dataset into our environment. We are using the sklearn library in this tutorial as it provides an easy way to access all of the information we need."
   ]
  },
  {
   "cell_type": "code",
   "execution_count": 264,
   "metadata": {},
   "outputs": [],
   "source": [
    "from sklearn.datasets import load_boston #Import the Boston dataset loader function from the datasets module.\n",
    "\n",
    "dataset = load_boston() # Loads a dictionary full of the dataset into our variable."
   ]
  },
  {
   "cell_type": "markdown",
   "metadata": {},
   "source": [
    "\n",
    "Our `dataset` variable now includes some useful information:\n"
   ]
  },
  {
   "cell_type": "code",
   "execution_count": 265,
   "metadata": {},
   "outputs": [
    {
     "name": "stdout",
     "output_type": "stream",
     "text": [
      "['filename', 'data', 'target', 'DESCR', 'feature_names']\n"
     ]
    }
   ],
   "source": [
    "print(dataset.keys())"
   ]
  },
  {
   "cell_type": "markdown",
   "metadata": {},
   "source": [
    "`'filename'` just tells us where the dataset is stored on our computer.\n",
    "\n",
    "`'data'` contains all the 506 examples and their values.\n",
    "\n",
    "`'target'` is the value we will try to predict for all of the 506 examples.\n",
    "\n",
    "`'DESCR'` is more information about the dataset which you should certainly read.\n",
    "\n",
    "`'feature_names'` tells you to what each of the columns in `'data'` corresponds (the statistics I mentioned above). "
   ]
  },
  {
   "cell_type": "markdown",
   "metadata": {},
   "source": [
    "In our case, the 'target' we will be trying to predict is the median household value in \\$1000's.\n",
    "\n",
    "## But How?\n",
    "The algorithm we will be looking at today is called linear regression. If you have ever used the \"line of best fit\" feature in Microsoft Excel, you are already familiar. In fact, you could probably do what we're about to do in Excel, but where's the fun in that?\n",
    "\n",
    "### The Hypothesis Function\n",
    "We are all familiar with the basic formula of a line:\n",
    "\n",
    "\\begin{aligned}\n",
    "y = mx+b \\\\\n",
    "\\end{aligned}\n",
    "\n",
    "In this case, we have our y (the cost of the house), and our x (the 13 other statistics), and now we want to find the m that will, given any _unseen_ (as in, nothing we already have in our dataset) x values, give us the correct y value.\n",
    "\n",
    "In machine learning terms,this formula is called our _hypothesis function_. Typically, this will be written in the form:\n",
    "\n",
    "\\begin{aligned}\n",
    "h_\\theta(x) = \\theta x \\\\\n",
    "\\end{aligned}\n",
    "\n",
    "In our case, it would actually look more like this:\n",
    "\n",
    "\\begin{aligned}\n",
    "h_\\theta(x) = \\theta_0x_0 + \\theta_1 x_1 + \\dotsb + \\theta_0 x_{12} \\\\\n",
    "\\end{aligned}\n",
    "\n",
    "Since we have 13 x's.\n",
    "\n",
    "### The Cost Function\n",
    "So now that we have our function defined, how to we \"grade\" our prediction? That's where the cost function comes into play! Now, there are many cost functions out there and which one you use depends very much on the problem you are trying to solve, and the later steps in this tutorial. That discussion, however, is outside the scope of this tutorial.\n",
    "\n",
    "In our case, the cost function that we will be using is called the Mean Squared Error. That function looks like this:\n",
    "\\begin{aligned}\n",
    "J(\\theta) = \\frac{1}{2m}\\sum_{i=0}^{m} (y_i - h_{i\\theta}(x))^2 \\\\\n",
    "\\end{aligned}\n",
    "Where $h_{i\\theta}(x)$ is what we predicted for the $i^{th}$ example and $y_i$ is the correct value. As you can see, this simply takes the average of the squared difference between the real value and the predicted value. The $\\frac{1}{2}$ part just makes the math nice when you take the first derivative of the equation (we'll talk about that later).\n",
    "\n",
    "### Gradient Descent\n",
    "Okay, so now that we have the hypothesis function, the correct values, and a way to quantify our error, what next? We need to find a way to improve our guess for $\\theta$ using our cost function. The way we are going to do that is called gradient descent.\n",
    "\n",
    "Gradient descent will use the cost function we defined above to gradually change the value of $\\theta$ until the cost is zero, or as close to it as we can get. The formula is as follows:\n",
    "\n",
    "\\begin{aligned}\n",
    "\\theta_j := \\theta_j - \\alpha\\frac{\\partial}{\\partial \\theta_j}J(\\theta)\\\\\n",
    "\\end{aligned}\n",
    "\n",
    "So, for every $\\theta$ value, subtract from it's current value the derivate of the cost function with respect to that $\\theta$. $\\alpha$ is the rate by which we change that value is called the learning rate. This typically has a low value like .01.\n",
    "\n",
    "I know the formula looks scary, but the intuition behind it is rather simple: update each $\\theta$ by the amount of change it affects in the change of the cost function (scaled by how fast we want the the whole process to go)."
   ]
  },
  {
   "cell_type": "markdown",
   "metadata": {},
   "source": [
    "## The Real Fun\n",
    "Enough boring math, it's time to try this out!\n",
    "\n",
    "### The Model\n",
    "So the first step is to import the libraries that we will need. We will be using keras in this case since it provides (in my opinion) the easiest interface for creating models."
   ]
  },
  {
   "cell_type": "code",
   "execution_count": 266,
   "metadata": {},
   "outputs": [],
   "source": [
    "''' I wouldn't pay too much attention to what these do for now, they are just libraries specific to keras\n",
    "  that we will need\n",
    "'''\n",
    "from keras.models import Sequential\n",
    "from keras.layers import Input, Dense"
   ]
  },
  {
   "cell_type": "code",
   "execution_count": 267,
   "metadata": {},
   "outputs": [],
   "source": [
    "model = Sequential() # Create our model\n",
    "model.add(Dense(1, activation=\"linear\",input_shape=(4,))) #Create the first and only layer of our model\n",
    "model.compile(optimizer=\"SGD\", loss=\"mean_squared_error\")"
   ]
  },
  {
   "cell_type": "markdown",
   "metadata": {},
   "source": [
    "Let me explain the last two lines a little. Since Keras is made for neural networks, we have to do some ugly stuff to make it do linear regression. All this does is create a single \"neuron\" using the \"linear\" function (our hypothesis function), and tell it that our input will be 4 features (the reason I chose these features specifically is outside the scope of this tutorial). \n",
    "\n",
    "Then in the next line, we tell it we want to learn using SGD (Stochasic Gradient Descent, our gradient descent algorithm above). We also tell it we want to use our Mean Squared Error function."
   ]
  },
  {
   "cell_type": "markdown",
   "metadata": {},
   "source": [
    "### The Data\n",
    "So, before we try to run our model, we should do some data preprocessing. What we are going to do is normalize the features we have. We do this to ensure our model trains well. If we leave the data as it is, the changes our gradient descent makes to our weights can be drastic or otherwise unhelpful. Let's consider the first sample:"
   ]
  },
  {
   "cell_type": "code",
   "execution_count": 268,
   "metadata": {},
   "outputs": [
    {
     "name": "stdout",
     "output_type": "stream",
     "text": [
      "[6.320e-03 6.575e+00 2.960e+02 4.980e+00]\n"
     ]
    }
   ],
   "source": [
    "data = dataset['data'][:,[0,5,9,12]] # Get the data for all the samples, but only the 4 features I have chosen.\n",
    "print(data[0])"
   ]
  },
  {
   "cell_type": "markdown",
   "metadata": {},
   "source": [
    "As you can see, some values are very small and others are rather large. That means small steps for the large features will mean huge steps for the small variables, and we'll potentially never reach the minimum!\n",
    "\n",
    "We will be using numpy for this part."
   ]
  },
  {
   "cell_type": "code",
   "execution_count": 269,
   "metadata": {},
   "outputs": [],
   "source": [
    "import numpy as np\n",
    "data = np.array(data) # Convert train_data to a numpy array for these operations\n",
    "average = np.average(data) # Calculate the average of every sample\n",
    "std = np.std(data) # Calculate the standard deviation of values for every sample\n",
    "\n",
    "data = (data - average) / (std)"
   ]
  },
  {
   "cell_type": "markdown",
   "metadata": {},
   "source": [
    "Now, as you can see, the distribution of values is much smaller:"
   ]
  },
  {
   "cell_type": "code",
   "execution_count": 270,
   "metadata": {},
   "outputs": [
    {
     "name": "stdout",
     "output_type": "stream",
     "text": [
      "[-0.55807052 -0.52403059  0.97581526 -0.53229613]\n"
     ]
    }
   ],
   "source": [
    "print(data[0])"
   ]
  },
  {
   "cell_type": "markdown",
   "metadata": {},
   "source": [
    "Now let's split up the data so that we reserve 20% of the dataset for testing our model."
   ]
  },
  {
   "cell_type": "code",
   "execution_count": 271,
   "metadata": {},
   "outputs": [],
   "source": [
    "split_index = int(len(data) * .20)\n",
    "test_data = data[:split_index]\n",
    "train_data = data[split_index:]\n",
    "\n",
    "test_labels = dataset['target'][:split_index]\n",
    "train_labels = dataset['target'][split_index:]"
   ]
  },
  {
   "cell_type": "markdown",
   "metadata": {},
   "source": [
    "Now, you should never split your data the way we just did. The reason for that is: if there is any trend related to the order of your data, your model will learn this instead and not be accurate for new data. You should typically randomly sample the data for the splits, but in our case it will be fine."
   ]
  },
  {
   "cell_type": "markdown",
   "metadata": {},
   "source": [
    "### Putting it all together\n",
    "Now is the moment of truth. Let's train our model and test it."
   ]
  },
  {
   "cell_type": "code",
   "execution_count": 272,
   "metadata": {},
   "outputs": [
    {
     "name": "stdout",
     "output_type": "stream",
     "text": [
      "Epoch 1/100\n",
      "405/405 [==============================] - 0s 785us/step - loss: 363.7975\n",
      "Epoch 2/100\n",
      "405/405 [==============================] - 0s 31us/step - loss: 207.2077\n",
      "Epoch 3/100\n",
      "405/405 [==============================] - 0s 37us/step - loss: 180.9793\n",
      "Epoch 4/100\n",
      "405/405 [==============================] - 0s 54us/step - loss: 164.1028\n",
      "Epoch 5/100\n",
      "405/405 [==============================] - 0s 43us/step - loss: 150.6410\n",
      "Epoch 6/100\n",
      "405/405 [==============================] - 0s 48us/step - loss: 138.3677\n",
      "Epoch 7/100\n",
      "405/405 [==============================] - 0s 42us/step - loss: 128.2598\n",
      "Epoch 8/100\n",
      "405/405 [==============================] - 0s 39us/step - loss: 119.2970\n",
      "Epoch 9/100\n",
      "405/405 [==============================] - 0s 48us/step - loss: 111.8387\n",
      "Epoch 10/100\n",
      "405/405 [==============================] - 0s 55us/step - loss: 105.5038\n",
      "Epoch 11/100\n",
      "405/405 [==============================] - 0s 39us/step - loss: 100.0933\n",
      "Epoch 12/100\n",
      "405/405 [==============================] - 0s 44us/step - loss: 95.3408\n",
      "Epoch 13/100\n",
      "405/405 [==============================] - 0s 41us/step - loss: 91.5497\n",
      "Epoch 14/100\n",
      "405/405 [==============================] - 0s 42us/step - loss: 87.9917\n",
      "Epoch 15/100\n",
      "405/405 [==============================] - 0s 47us/step - loss: 84.8788\n",
      "Epoch 16/100\n",
      "405/405 [==============================] - 0s 38us/step - loss: 82.3271\n",
      "Epoch 17/100\n",
      "405/405 [==============================] - 0s 41us/step - loss: 80.3530\n",
      "Epoch 18/100\n",
      "405/405 [==============================] - 0s 38us/step - loss: 78.4353\n",
      "Epoch 19/100\n",
      "405/405 [==============================] - 0s 43us/step - loss: 76.9523\n",
      "Epoch 20/100\n",
      "405/405 [==============================] - 0s 44us/step - loss: 75.5284\n",
      "Epoch 21/100\n",
      "405/405 [==============================] - 0s 46us/step - loss: 74.3208\n",
      "Epoch 22/100\n",
      "405/405 [==============================] - 0s 42us/step - loss: 73.5208\n",
      "Epoch 23/100\n",
      "405/405 [==============================] - 0s 40us/step - loss: 72.3930\n",
      "Epoch 24/100\n",
      "405/405 [==============================] - 0s 42us/step - loss: 71.7061\n",
      "Epoch 25/100\n",
      "405/405 [==============================] - 0s 38us/step - loss: 71.0760\n",
      "Epoch 26/100\n",
      "405/405 [==============================] - 0s 44us/step - loss: 70.4621\n",
      "Epoch 27/100\n",
      "405/405 [==============================] - 0s 43us/step - loss: 70.1741\n",
      "Epoch 28/100\n",
      "405/405 [==============================] - 0s 40us/step - loss: 69.7265\n",
      "Epoch 29/100\n",
      "405/405 [==============================] - 0s 45us/step - loss: 69.4095\n",
      "Epoch 30/100\n",
      "405/405 [==============================] - 0s 44us/step - loss: 69.0047\n",
      "Epoch 31/100\n",
      "405/405 [==============================] - 0s 39us/step - loss: 68.7671\n",
      "Epoch 32/100\n",
      "405/405 [==============================] - 0s 45us/step - loss: 68.4909\n",
      "Epoch 33/100\n",
      "405/405 [==============================] - 0s 49us/step - loss: 68.3528\n",
      "Epoch 34/100\n",
      "405/405 [==============================] - 0s 44us/step - loss: 68.1846\n",
      "Epoch 35/100\n",
      "405/405 [==============================] - 0s 40us/step - loss: 68.1515\n",
      "Epoch 36/100\n",
      "405/405 [==============================] - 0s 44us/step - loss: 67.8423\n",
      "Epoch 37/100\n",
      "405/405 [==============================] - 0s 52us/step - loss: 67.7732\n",
      "Epoch 38/100\n",
      "405/405 [==============================] - 0s 46us/step - loss: 67.6398\n",
      "Epoch 39/100\n",
      "405/405 [==============================] - 0s 43us/step - loss: 67.5462\n",
      "Epoch 40/100\n",
      "405/405 [==============================] - 0s 42us/step - loss: 67.4755\n",
      "Epoch 41/100\n",
      "405/405 [==============================] - 0s 46us/step - loss: 67.4074\n",
      "Epoch 42/100\n",
      "405/405 [==============================] - 0s 48us/step - loss: 67.3654\n",
      "Epoch 43/100\n",
      "405/405 [==============================] - 0s 40us/step - loss: 67.2436\n",
      "Epoch 44/100\n",
      "405/405 [==============================] - 0s 50us/step - loss: 67.2965\n",
      "Epoch 45/100\n",
      "405/405 [==============================] - 0s 43us/step - loss: 67.2657\n",
      "Epoch 46/100\n",
      "405/405 [==============================] - 0s 45us/step - loss: 67.2508\n",
      "Epoch 47/100\n",
      "405/405 [==============================] - 0s 47us/step - loss: 67.1245\n",
      "Epoch 48/100\n",
      "405/405 [==============================] - 0s 57us/step - loss: 67.2496\n",
      "Epoch 49/100\n",
      "405/405 [==============================] - 0s 41us/step - loss: 67.0860\n",
      "Epoch 50/100\n",
      "405/405 [==============================] - 0s 49us/step - loss: 66.9814\n",
      "Epoch 51/100\n",
      "405/405 [==============================] - 0s 44us/step - loss: 67.0597\n",
      "Epoch 52/100\n",
      "405/405 [==============================] - 0s 46us/step - loss: 67.1439\n",
      "Epoch 53/100\n",
      "405/405 [==============================] - 0s 45us/step - loss: 67.0659\n",
      "Epoch 54/100\n",
      "405/405 [==============================] - 0s 48us/step - loss: 67.0596\n",
      "Epoch 55/100\n",
      "405/405 [==============================] - 0s 47us/step - loss: 67.0198\n",
      "Epoch 56/100\n",
      "405/405 [==============================] - 0s 37us/step - loss: 67.0244\n",
      "Epoch 57/100\n",
      "405/405 [==============================] - 0s 37us/step - loss: 66.9948\n",
      "Epoch 58/100\n",
      "405/405 [==============================] - 0s 40us/step - loss: 66.9085\n",
      "Epoch 59/100\n",
      "405/405 [==============================] - 0s 36us/step - loss: 66.9406\n",
      "Epoch 60/100\n",
      "405/405 [==============================] - 0s 37us/step - loss: 66.8407\n",
      "Epoch 61/100\n",
      "405/405 [==============================] - 0s 36us/step - loss: 66.8914\n",
      "Epoch 62/100\n",
      "405/405 [==============================] - 0s 34us/step - loss: 66.8976\n",
      "Epoch 63/100\n",
      "405/405 [==============================] - 0s 35us/step - loss: 66.9426\n",
      "Epoch 64/100\n",
      "405/405 [==============================] - 0s 37us/step - loss: 66.9384\n",
      "Epoch 65/100\n",
      "405/405 [==============================] - 0s 37us/step - loss: 67.0526\n",
      "Epoch 66/100\n",
      "405/405 [==============================] - 0s 36us/step - loss: 66.7952\n",
      "Epoch 67/100\n",
      "405/405 [==============================] - 0s 35us/step - loss: 66.8368\n",
      "Epoch 68/100\n",
      "405/405 [==============================] - 0s 37us/step - loss: 66.8319\n",
      "Epoch 69/100\n",
      "405/405 [==============================] - 0s 43us/step - loss: 66.8794\n",
      "Epoch 70/100\n",
      "405/405 [==============================] - 0s 43us/step - loss: 66.8775\n",
      "Epoch 71/100\n",
      "405/405 [==============================] - 0s 44us/step - loss: 66.7807\n",
      "Epoch 72/100\n",
      "405/405 [==============================] - 0s 43us/step - loss: 66.8231\n",
      "Epoch 73/100\n",
      "405/405 [==============================] - 0s 42us/step - loss: 66.8600\n",
      "Epoch 74/100\n",
      "405/405 [==============================] - 0s 43us/step - loss: 66.6614\n",
      "Epoch 75/100\n",
      "405/405 [==============================] - 0s 44us/step - loss: 66.7278\n",
      "Epoch 76/100\n",
      "405/405 [==============================] - 0s 39us/step - loss: 66.7508\n",
      "Epoch 77/100\n",
      "405/405 [==============================] - 0s 41us/step - loss: 66.6811\n",
      "Epoch 78/100\n",
      "405/405 [==============================] - 0s 40us/step - loss: 66.8079\n",
      "Epoch 79/100\n",
      "405/405 [==============================] - 0s 40us/step - loss: 66.6995\n",
      "Epoch 80/100\n",
      "405/405 [==============================] - 0s 45us/step - loss: 66.7146\n",
      "Epoch 81/100\n",
      "405/405 [==============================] - 0s 41us/step - loss: 66.6086\n",
      "Epoch 82/100\n",
      "405/405 [==============================] - 0s 39us/step - loss: 66.7625\n",
      "Epoch 83/100\n",
      "405/405 [==============================] - 0s 38us/step - loss: 66.7490\n",
      "Epoch 84/100\n",
      "405/405 [==============================] - 0s 41us/step - loss: 66.7580\n",
      "Epoch 85/100\n",
      "405/405 [==============================] - 0s 39us/step - loss: 66.6302\n",
      "Epoch 86/100\n",
      "405/405 [==============================] - 0s 40us/step - loss: 66.7761\n",
      "Epoch 87/100\n",
      "405/405 [==============================] - 0s 52us/step - loss: 66.6065\n",
      "Epoch 88/100\n",
      "405/405 [==============================] - 0s 53us/step - loss: 66.6355\n",
      "Epoch 89/100\n",
      "405/405 [==============================] - 0s 64us/step - loss: 66.6966\n",
      "Epoch 90/100\n",
      "405/405 [==============================] - 0s 63us/step - loss: 66.4796\n",
      "Epoch 91/100\n",
      "405/405 [==============================] - 0s 48us/step - loss: 66.5049\n",
      "Epoch 92/100\n",
      "405/405 [==============================] - 0s 45us/step - loss: 66.5952\n",
      "Epoch 93/100\n",
      "405/405 [==============================] - 0s 52us/step - loss: 66.4482\n",
      "Epoch 94/100\n",
      "405/405 [==============================] - 0s 53us/step - loss: 66.5466\n",
      "Epoch 95/100\n",
      "405/405 [==============================] - 0s 47us/step - loss: 66.6268\n",
      "Epoch 96/100\n",
      "405/405 [==============================] - 0s 48us/step - loss: 66.6403\n",
      "Epoch 97/100\n"
     ]
    },
    {
     "name": "stdout",
     "output_type": "stream",
     "text": [
      "405/405 [==============================] - 0s 56us/step - loss: 66.5285\n",
      "Epoch 98/100\n",
      "405/405 [==============================] - 0s 51us/step - loss: 66.5634\n",
      "Epoch 99/100\n",
      "405/405 [==============================] - 0s 53us/step - loss: 66.5094\n",
      "Epoch 100/100\n",
      "405/405 [==============================] - 0s 58us/step - loss: 66.5008\n"
     ]
    },
    {
     "data": {
      "text/plain": [
       "<keras.callbacks.History at 0x135812bd0>"
      ]
     },
     "execution_count": 272,
     "metadata": {},
     "output_type": "execute_result"
    }
   ],
   "source": [
    "model.fit(x=train_data, y=train_labels, epochs=100)"
   ]
  },
  {
   "cell_type": "code",
   "execution_count": 273,
   "metadata": {},
   "outputs": [
    {
     "name": "stdout",
     "output_type": "stream",
     "text": [
      "50.56089221973576\n"
     ]
    }
   ],
   "source": [
    "from sklearn.metrics import mean_squared_error # We'll use this to calculate the mean squared error for us\n",
    "test_predictions = model.predict(test_data) # Have our model make predictions on new, unseen data\n",
    "error = mean_squared_error(test_labels, test_predictions) # Calculate our error rate across the test set\n",
    "print(error)"
   ]
  },
  {
   "cell_type": "markdown",
   "metadata": {},
   "source": [
    "## Conclusion\n",
    "As you can see from the output of the last cell, the more iterations we ran, the lower our loss became. You can play around and see how many epochs it takes for it to finally reach zero (or if it ever even does!), or try different loss functions, features, or even normalization methods. I hope you learned something for this tutorial, and if you have any recommendations on how to make this better or any errors you might've noticed, PLEASE reach out to me."
   ]
  }
 ],
 "metadata": {
  "kernelspec": {
   "display_name": "Python 2",
   "language": "python",
   "name": "python2"
  },
  "language_info": {
   "codemirror_mode": {
    "name": "ipython",
    "version": 2
   },
   "file_extension": ".py",
   "mimetype": "text/x-python",
   "name": "python",
   "nbconvert_exporter": "python",
   "pygments_lexer": "ipython2",
   "version": "2.7.10"
  }
 },
 "nbformat": 4,
 "nbformat_minor": 2
}
